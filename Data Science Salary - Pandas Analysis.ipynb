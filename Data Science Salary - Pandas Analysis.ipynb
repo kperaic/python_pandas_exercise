{
 "cells": [
  {
   "cell_type": "code",
   "execution_count": 4,
   "id": "17851428",
   "metadata": {},
   "outputs": [],
   "source": [
    "import numpy as np\n",
    "import pandas as pd"
   ]
  },
  {
   "cell_type": "code",
   "execution_count": 65,
   "id": "ffbb7610",
   "metadata": {},
   "outputs": [],
   "source": [
    "sal = pd.read_csv('ds_salaries.csv')"
   ]
  },
  {
   "cell_type": "code",
   "execution_count": 52,
   "id": "c0e03d39",
   "metadata": {},
   "outputs": [
    {
     "data": {
      "text/html": [
       "<div>\n",
       "<style scoped>\n",
       "    .dataframe tbody tr th:only-of-type {\n",
       "        vertical-align: middle;\n",
       "    }\n",
       "\n",
       "    .dataframe tbody tr th {\n",
       "        vertical-align: top;\n",
       "    }\n",
       "\n",
       "    .dataframe thead th {\n",
       "        text-align: right;\n",
       "    }\n",
       "</style>\n",
       "<table border=\"1\" class=\"dataframe\">\n",
       "  <thead>\n",
       "    <tr style=\"text-align: right;\">\n",
       "      <th></th>\n",
       "      <th>Unnamed: 0</th>\n",
       "      <th>work_year</th>\n",
       "      <th>experience_level</th>\n",
       "      <th>employment_type</th>\n",
       "      <th>job_title</th>\n",
       "      <th>salary</th>\n",
       "      <th>salary_currency</th>\n",
       "      <th>salary_in_usd</th>\n",
       "      <th>employee_residence</th>\n",
       "      <th>remote_ratio</th>\n",
       "      <th>company_location</th>\n",
       "      <th>company_size</th>\n",
       "    </tr>\n",
       "  </thead>\n",
       "  <tbody>\n",
       "    <tr>\n",
       "      <th>0</th>\n",
       "      <td>0</td>\n",
       "      <td>2020</td>\n",
       "      <td>MI</td>\n",
       "      <td>FT</td>\n",
       "      <td>Data Scientist</td>\n",
       "      <td>70000</td>\n",
       "      <td>EUR</td>\n",
       "      <td>79833</td>\n",
       "      <td>DE</td>\n",
       "      <td>0</td>\n",
       "      <td>DE</td>\n",
       "      <td>L</td>\n",
       "    </tr>\n",
       "    <tr>\n",
       "      <th>1</th>\n",
       "      <td>1</td>\n",
       "      <td>2020</td>\n",
       "      <td>SE</td>\n",
       "      <td>FT</td>\n",
       "      <td>Machine Learning Scientist</td>\n",
       "      <td>260000</td>\n",
       "      <td>USD</td>\n",
       "      <td>260000</td>\n",
       "      <td>JP</td>\n",
       "      <td>0</td>\n",
       "      <td>JP</td>\n",
       "      <td>S</td>\n",
       "    </tr>\n",
       "    <tr>\n",
       "      <th>2</th>\n",
       "      <td>2</td>\n",
       "      <td>2020</td>\n",
       "      <td>SE</td>\n",
       "      <td>FT</td>\n",
       "      <td>Big Data Engineer</td>\n",
       "      <td>85000</td>\n",
       "      <td>GBP</td>\n",
       "      <td>109024</td>\n",
       "      <td>GB</td>\n",
       "      <td>50</td>\n",
       "      <td>GB</td>\n",
       "      <td>M</td>\n",
       "    </tr>\n",
       "    <tr>\n",
       "      <th>3</th>\n",
       "      <td>3</td>\n",
       "      <td>2020</td>\n",
       "      <td>MI</td>\n",
       "      <td>FT</td>\n",
       "      <td>Product Data Analyst</td>\n",
       "      <td>20000</td>\n",
       "      <td>USD</td>\n",
       "      <td>20000</td>\n",
       "      <td>HN</td>\n",
       "      <td>0</td>\n",
       "      <td>HN</td>\n",
       "      <td>S</td>\n",
       "    </tr>\n",
       "    <tr>\n",
       "      <th>4</th>\n",
       "      <td>4</td>\n",
       "      <td>2020</td>\n",
       "      <td>SE</td>\n",
       "      <td>FT</td>\n",
       "      <td>Machine Learning Engineer</td>\n",
       "      <td>150000</td>\n",
       "      <td>USD</td>\n",
       "      <td>150000</td>\n",
       "      <td>US</td>\n",
       "      <td>50</td>\n",
       "      <td>US</td>\n",
       "      <td>L</td>\n",
       "    </tr>\n",
       "  </tbody>\n",
       "</table>\n",
       "</div>"
      ],
      "text/plain": [
       "   Unnamed: 0  work_year experience_level employment_type  \\\n",
       "0           0       2020               MI              FT   \n",
       "1           1       2020               SE              FT   \n",
       "2           2       2020               SE              FT   \n",
       "3           3       2020               MI              FT   \n",
       "4           4       2020               SE              FT   \n",
       "\n",
       "                    job_title  salary salary_currency  salary_in_usd  \\\n",
       "0              Data Scientist   70000             EUR          79833   \n",
       "1  Machine Learning Scientist  260000             USD         260000   \n",
       "2           Big Data Engineer   85000             GBP         109024   \n",
       "3        Product Data Analyst   20000             USD          20000   \n",
       "4   Machine Learning Engineer  150000             USD         150000   \n",
       "\n",
       "  employee_residence  remote_ratio company_location company_size  \n",
       "0                 DE             0               DE            L  \n",
       "1                 JP             0               JP            S  \n",
       "2                 GB            50               GB            M  \n",
       "3                 HN             0               HN            S  \n",
       "4                 US            50               US            L  "
      ]
     },
     "execution_count": 52,
     "metadata": {},
     "output_type": "execute_result"
    }
   ],
   "source": [
    "sal.head()"
   ]
  },
  {
   "cell_type": "code",
   "execution_count": null,
   "id": "9c253be5",
   "metadata": {},
   "outputs": [],
   "source": []
  },
  {
   "cell_type": "markdown",
   "id": "38980478",
   "metadata": {},
   "source": [
    "** Top 3 paying job per title. **"
   ]
  },
  {
   "cell_type": "code",
   "execution_count": 86,
   "id": "36fbed0b",
   "metadata": {},
   "outputs": [
    {
     "data": {
      "text/plain": [
       "job_title\n",
       "Principal Data Engineer                     600000\n",
       "Financial Data Analyst                      450000\n",
       "Research Scientist                          450000\n",
       "Applied Machine Learning Scientist          423000\n",
       "Principal Data Scientist                    416000\n",
       "Data Scientist                              412000\n",
       "Data Analytics Lead                         405000\n",
       "Applied Data Scientist                      380000\n",
       "Director of Data Science                    325000\n",
       "Data Engineer                               324000\n",
       "Lead Data Engineer                          276000\n",
       "ML Engineer                                 270000\n",
       "Data Architect                              266400\n",
       "Machine Learning Scientist                  260000\n",
       "Machine Learning Engineer                   250000\n",
       "Data Science Manager                        241000\n",
       "Head of Data                                235000\n",
       "Head of Data Science                        224000\n",
       "Analytics Engineer                          205300\n",
       "Data Analyst                                200000\n",
       "AI Scientist                                200000\n",
       "Director of Data Engineering                200000\n",
       "Machine Learning Infrastructure Engineer    195000\n",
       "Lead Data Scientist                         190000\n",
       "Data Engineering Manager                    174000\n",
       "Principal Data Analyst                      170000\n",
       "Lead Data Analyst                           170000\n",
       "Data Specialist                             165000\n",
       "Cloud Data Engineer                         160000\n",
       "Data Analytics Manager                      150260\n",
       "BI Data Analyst                             150000\n",
       "Computer Vision Software Engineer           150000\n",
       "Business Data Analyst                       135000\n",
       "Data Science Engineer                       127221\n",
       "Computer Vision Engineer                    125000\n",
       "Machine Learning Manager                    117104\n",
       "Big Data Engineer                           114047\n",
       "Data Analytics Engineer                     110000\n",
       "Staff Data Scientist                        105000\n",
       "Data Science Consultant                     103000\n",
       "Machine Learning Developer                  100000\n",
       "Big Data Architect                           99703\n",
       "Marketing Data Analyst                       88654\n",
       "Lead Machine Learning Engineer               87932\n",
       "Head of Machine Learning                     79039\n",
       "Finance Data Analyst                         61896\n",
       "ETL Developer                                54957\n",
       "NLP Engineer                                 37236\n",
       "Product Data Analyst                         20000\n",
       "3D Computer Vision Researcher                 5409\n",
       "Name: salary_in_usd, dtype: int64"
      ]
     },
     "execution_count": 86,
     "metadata": {},
     "output_type": "execute_result"
    }
   ],
   "source": [
    "sal.groupby('job_title')['salary_in_usd'].max().sort_values(ascending=False)"
   ]
  },
  {
   "cell_type": "markdown",
   "id": "d84efef3",
   "metadata": {},
   "source": [
    "** Number of employees per country (top 10)  **"
   ]
  },
  {
   "cell_type": "code",
   "execution_count": 58,
   "id": "0c65758f",
   "metadata": {},
   "outputs": [
    {
     "data": {
      "text/plain": [
       "US    332\n",
       "GB     44\n",
       "IN     30\n",
       "CA     29\n",
       "DE     25\n",
       "FR     18\n",
       "ES     15\n",
       "GR     13\n",
       "JP      7\n",
       "PT      6\n",
       "Name: employee_residence, dtype: int64"
      ]
     },
     "execution_count": 58,
     "metadata": {},
     "output_type": "execute_result"
    }
   ],
   "source": [
    "sal['employee_residence'].value_counts().head(10)"
   ]
  },
  {
   "cell_type": "markdown",
   "id": "5ee4f44a",
   "metadata": {},
   "source": [
    "** Number of senior employees per country (top 5) **"
   ]
  },
  {
   "cell_type": "code",
   "execution_count": 73,
   "id": "cebb3d57",
   "metadata": {},
   "outputs": [
    {
     "data": {
      "text/plain": [
       "US    211\n",
       "CA     14\n",
       "GB      9\n",
       "DE      7\n",
       "IN      5\n",
       "Name: employee_residence, dtype: int64"
      ]
     },
     "execution_count": 73,
     "metadata": {},
     "output_type": "execute_result"
    }
   ],
   "source": [
    "sal[sal['experience_level']=='SE']['employee_residence'].value_counts().head(5)"
   ]
  },
  {
   "cell_type": "markdown",
   "id": "8cc1be55",
   "metadata": {},
   "source": [
    "** Average salary per experience level **"
   ]
  },
  {
   "cell_type": "code",
   "execution_count": 88,
   "id": "e114babf",
   "metadata": {},
   "outputs": [
    {
     "data": {
      "text/plain": [
       "experience_level\n",
       "EX    199392.0\n",
       "SE    138617.0\n",
       "MI     87996.0\n",
       "EN     61643.0\n",
       "Name: salary_in_usd, dtype: float64"
      ]
     },
     "execution_count": 88,
     "metadata": {},
     "output_type": "execute_result"
    }
   ],
   "source": [
    "sal.groupby('experience_level')['salary_in_usd'].mean().sort_values(ascending=False).round()"
   ]
  },
  {
   "cell_type": "markdown",
   "id": "7f18c263",
   "metadata": {},
   "source": [
    "** Top 3 most common jobs **"
   ]
  },
  {
   "cell_type": "code",
   "execution_count": 91,
   "id": "47e6ecf9",
   "metadata": {},
   "outputs": [
    {
     "data": {
      "text/plain": [
       "Data Scientist    143\n",
       "Data Engineer     132\n",
       "Data Analyst       97\n",
       "Name: job_title, dtype: int64"
      ]
     },
     "execution_count": 91,
     "metadata": {},
     "output_type": "execute_result"
    }
   ],
   "source": [
    "sal['job_title'].value_counts().head(3)"
   ]
  }
 ],
 "metadata": {
  "kernelspec": {
   "display_name": "Python 3 (ipykernel)",
   "language": "python",
   "name": "python3"
  },
  "language_info": {
   "codemirror_mode": {
    "name": "ipython",
    "version": 3
   },
   "file_extension": ".py",
   "mimetype": "text/x-python",
   "name": "python",
   "nbconvert_exporter": "python",
   "pygments_lexer": "ipython3",
   "version": "3.9.12"
  }
 },
 "nbformat": 4,
 "nbformat_minor": 5
}
