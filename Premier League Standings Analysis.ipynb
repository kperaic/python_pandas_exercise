{
 "cells": [
  {
   "cell_type": "code",
   "execution_count": 94,
   "id": "1bfb24a9",
   "metadata": {},
   "outputs": [],
   "source": [
    "import pandas as pd\n",
    "plt = pd.read_csv('EPL_standings_2000-2022.csv')"
   ]
  },
  {
   "cell_type": "code",
   "execution_count": 101,
   "id": "f060d80e",
   "metadata": {},
   "outputs": [
    {
     "data": {
      "text/html": [
       "<div>\n",
       "<style scoped>\n",
       "    .dataframe tbody tr th:only-of-type {\n",
       "        vertical-align: middle;\n",
       "    }\n",
       "\n",
       "    .dataframe tbody tr th {\n",
       "        vertical-align: top;\n",
       "    }\n",
       "\n",
       "    .dataframe thead th {\n",
       "        text-align: right;\n",
       "    }\n",
       "</style>\n",
       "<table border=\"1\" class=\"dataframe\">\n",
       "  <thead>\n",
       "    <tr style=\"text-align: right;\">\n",
       "      <th></th>\n",
       "      <th>Season</th>\n",
       "      <th>Pos</th>\n",
       "      <th>Team</th>\n",
       "      <th>Pld</th>\n",
       "      <th>W</th>\n",
       "      <th>D</th>\n",
       "      <th>L</th>\n",
       "      <th>GF</th>\n",
       "      <th>GA</th>\n",
       "      <th>GD</th>\n",
       "      <th>Pts</th>\n",
       "      <th>Qualification or relegation</th>\n",
       "    </tr>\n",
       "  </thead>\n",
       "  <tbody>\n",
       "    <tr>\n",
       "      <th>0</th>\n",
       "      <td>2000-01</td>\n",
       "      <td>1</td>\n",
       "      <td>Manchester United</td>\n",
       "      <td>38</td>\n",
       "      <td>24</td>\n",
       "      <td>8</td>\n",
       "      <td>6</td>\n",
       "      <td>79</td>\n",
       "      <td>31</td>\n",
       "      <td>48</td>\n",
       "      <td>80</td>\n",
       "      <td>Qualification for the Champions League first g...</td>\n",
       "    </tr>\n",
       "    <tr>\n",
       "      <th>1</th>\n",
       "      <td>2000-01</td>\n",
       "      <td>2</td>\n",
       "      <td>Arsenal</td>\n",
       "      <td>38</td>\n",
       "      <td>20</td>\n",
       "      <td>10</td>\n",
       "      <td>8</td>\n",
       "      <td>63</td>\n",
       "      <td>38</td>\n",
       "      <td>25</td>\n",
       "      <td>70</td>\n",
       "      <td>Qualification for the Champions League first g...</td>\n",
       "    </tr>\n",
       "    <tr>\n",
       "      <th>2</th>\n",
       "      <td>2000-01</td>\n",
       "      <td>3</td>\n",
       "      <td>Liverpool</td>\n",
       "      <td>38</td>\n",
       "      <td>20</td>\n",
       "      <td>9</td>\n",
       "      <td>9</td>\n",
       "      <td>71</td>\n",
       "      <td>39</td>\n",
       "      <td>32</td>\n",
       "      <td>69</td>\n",
       "      <td>Qualification for the Champions League third q...</td>\n",
       "    </tr>\n",
       "    <tr>\n",
       "      <th>3</th>\n",
       "      <td>2000-01</td>\n",
       "      <td>4</td>\n",
       "      <td>Leeds United</td>\n",
       "      <td>38</td>\n",
       "      <td>20</td>\n",
       "      <td>8</td>\n",
       "      <td>10</td>\n",
       "      <td>64</td>\n",
       "      <td>43</td>\n",
       "      <td>21</td>\n",
       "      <td>68</td>\n",
       "      <td>Qualification for the UEFA Cup first round[a]</td>\n",
       "    </tr>\n",
       "    <tr>\n",
       "      <th>4</th>\n",
       "      <td>2000-01</td>\n",
       "      <td>5</td>\n",
       "      <td>Ipswich Town</td>\n",
       "      <td>38</td>\n",
       "      <td>20</td>\n",
       "      <td>6</td>\n",
       "      <td>12</td>\n",
       "      <td>57</td>\n",
       "      <td>42</td>\n",
       "      <td>15</td>\n",
       "      <td>66</td>\n",
       "      <td>Qualification for the UEFA Cup first round[a]</td>\n",
       "    </tr>\n",
       "  </tbody>\n",
       "</table>\n",
       "</div>"
      ],
      "text/plain": [
       "    Season  Pos               Team  Pld   W   D   L  GF  GA  GD  Pts  \\\n",
       "0  2000-01    1  Manchester United   38  24   8   6  79  31  48   80   \n",
       "1  2000-01    2            Arsenal   38  20  10   8  63  38  25   70   \n",
       "2  2000-01    3          Liverpool   38  20   9   9  71  39  32   69   \n",
       "3  2000-01    4       Leeds United   38  20   8  10  64  43  21   68   \n",
       "4  2000-01    5       Ipswich Town   38  20   6  12  57  42  15   66   \n",
       "\n",
       "                         Qualification or relegation  \n",
       "0  Qualification for the Champions League first g...  \n",
       "1  Qualification for the Champions League first g...  \n",
       "2  Qualification for the Champions League third q...  \n",
       "3      Qualification for the UEFA Cup first round[a]  \n",
       "4      Qualification for the UEFA Cup first round[a]  "
      ]
     },
     "execution_count": 101,
     "metadata": {},
     "output_type": "execute_result"
    }
   ],
   "source": [
    "plt.head()"
   ]
  },
  {
   "cell_type": "code",
   "execution_count": null,
   "id": "779ad98d",
   "metadata": {},
   "outputs": [],
   "source": [
    "# Top 3 teams with the highest number of points since 2000/01"
   ]
  },
  {
   "cell_type": "code",
   "execution_count": 96,
   "id": "152f26ca",
   "metadata": {},
   "outputs": [
    {
     "data": {
      "text/plain": [
       "Team\n",
       "Manchester United    1698\n",
       "Chelsea              1665\n",
       "Arsenal              1603\n",
       "Name: Pts, dtype: int64"
      ]
     },
     "execution_count": 96,
     "metadata": {},
     "output_type": "execute_result"
    }
   ],
   "source": [
    "plt.groupby('Team')['Pts'].sum().sort_values(ascending=False).head(3)"
   ]
  },
  {
   "cell_type": "code",
   "execution_count": null,
   "id": "15a6e33a",
   "metadata": {},
   "outputs": [],
   "source": [
    "# Teams with highest number of titles since 2000/01"
   ]
  },
  {
   "cell_type": "code",
   "execution_count": 117,
   "id": "558e8116",
   "metadata": {},
   "outputs": [
    {
     "data": {
      "text/plain": [
       "Team\n",
       "Manchester United    7\n",
       "Manchester City      6\n",
       "Chelsea              5\n",
       "Arsenal              2\n",
       "Leicester City       1\n",
       "Name: Pos, dtype: int64"
      ]
     },
     "execution_count": 117,
     "metadata": {},
     "output_type": "execute_result"
    }
   ],
   "source": [
    "plt.groupby('Team')['Pos'].apply(lambda x: (x==1).sum()).sort_values(ascending=False).head()"
   ]
  },
  {
   "cell_type": "code",
   "execution_count": null,
   "id": "b4605c5f",
   "metadata": {},
   "outputs": [],
   "source": [
    "# Which teams got relegated the most?"
   ]
  },
  {
   "cell_type": "code",
   "execution_count": 116,
   "id": "162de3ad",
   "metadata": {
    "scrolled": true
   },
   "outputs": [
    {
     "data": {
      "text/plain": [
       "Norwich City            5\n",
       "West Bromwich Albion    5\n",
       "Hull City               3\n",
       "Burnley                 3\n",
       "Sunderland              3\n",
       "Name: Team, dtype: int64"
      ]
     },
     "execution_count": 116,
     "metadata": {},
     "output_type": "execute_result"
    }
   ],
   "source": [
    "plt[plt['Qualification or relegation'].str.contains('Relegation')]['Team'].value_counts().head()"
   ]
  },
  {
   "cell_type": "code",
   "execution_count": null,
   "id": "adf28b57",
   "metadata": {},
   "outputs": [],
   "source": [
    "# Average number of points won per team?"
   ]
  },
  {
   "cell_type": "code",
   "execution_count": 121,
   "id": "4b85f5be",
   "metadata": {},
   "outputs": [
    {
     "data": {
      "text/plain": [
       "Team\n",
       "Manchester United    77.0\n",
       "Chelsea              76.0\n",
       "Arsenal              73.0\n",
       "Liverpool            72.0\n",
       "Manchester City      69.0\n",
       "Tottenham Hotspur    62.0\n",
       "Everton              54.0\n",
       "Leeds United         52.0\n",
       "Ipswich Town         51.0\n",
       "Leicester City       50.0\n",
       "Name: Pts, dtype: float64"
      ]
     },
     "execution_count": 121,
     "metadata": {},
     "output_type": "execute_result"
    }
   ],
   "source": [
    "plt.groupby('Team')['Pts'].mean().sort_values(ascending=False).round().head(10)"
   ]
  },
  {
   "cell_type": "code",
   "execution_count": null,
   "id": "f306d586",
   "metadata": {},
   "outputs": [],
   "source": [
    "# Teams with the highest number of loses?"
   ]
  },
  {
   "cell_type": "code",
   "execution_count": 128,
   "id": "1036bbd2",
   "metadata": {},
   "outputs": [
    {
     "data": {
      "text/plain": [
       "Team\n",
       "Newcastle United    307\n",
       "West Ham United     303\n",
       "Aston Villa         287\n",
       "Everton             287\n",
       "Sunderland          266\n",
       "Name: L, dtype: int64"
      ]
     },
     "execution_count": 128,
     "metadata": {},
     "output_type": "execute_result"
    }
   ],
   "source": [
    "plt.groupby('Team')['L'].sum().sort_values(ascending=False).head()"
   ]
  },
  {
   "cell_type": "code",
   "execution_count": null,
   "id": "f0f74c7b",
   "metadata": {},
   "outputs": [],
   "source": [
    "# What is the best season finish position aciheved by Charlton Athletic?"
   ]
  },
  {
   "cell_type": "code",
   "execution_count": 137,
   "id": "085dda49",
   "metadata": {},
   "outputs": [
    {
     "data": {
      "text/plain": [
       "66    7\n",
       "Name: Pos, dtype: int64"
      ]
     },
     "execution_count": 137,
     "metadata": {},
     "output_type": "execute_result"
    }
   ],
   "source": [
    "plt[plt['Team']=='Charlton Athletic']['Pos'].sort_values().head(1)"
   ]
  },
  {
   "cell_type": "code",
   "execution_count": null,
   "id": "e620d762",
   "metadata": {},
   "outputs": [],
   "source": [
    "# In season 2008/09, which team ended up on the 7th place?"
   ]
  },
  {
   "cell_type": "code",
   "execution_count": 221,
   "id": "ad6b355a",
   "metadata": {},
   "outputs": [
    {
     "data": {
      "text/plain": [
       "166    Fulham\n",
       "Name: Team, dtype: object"
      ]
     },
     "execution_count": 221,
     "metadata": {},
     "output_type": "execute_result"
    }
   ],
   "source": [
    "plt[(plt['Season'] == '2008-09') & (plt['Pos'] == 7)]['Team']"
   ]
  }
 ],
 "metadata": {
  "kernelspec": {
   "display_name": "Python 3 (ipykernel)",
   "language": "python",
   "name": "python3"
  },
  "language_info": {
   "codemirror_mode": {
    "name": "ipython",
    "version": 3
   },
   "file_extension": ".py",
   "mimetype": "text/x-python",
   "name": "python",
   "nbconvert_exporter": "python",
   "pygments_lexer": "ipython3",
   "version": "3.9.12"
  }
 },
 "nbformat": 4,
 "nbformat_minor": 5
}
